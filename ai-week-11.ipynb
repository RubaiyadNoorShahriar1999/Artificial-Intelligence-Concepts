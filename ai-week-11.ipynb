{
 "cells": [
  {
   "cell_type": "code",
   "execution_count": 63,
   "metadata": {},
   "outputs": [],
   "source": [
    "cgraph = {'WA': ['SA', 'NT'], 'Q': ['SA', 'NT', 'NSW'], 'T': [],\n",
    "'V': ['SA', 'NSW'], 'SA': ['WA', 'NT', 'Q', 'NSW','V'], \n",
    "          'NT': ['Q', 'WA', 'SA'], 'NSW': ['Q', 'V', 'SA']}\n",
    "okColor={}"
   ]
  },
  {
   "cell_type": "code",
   "execution_count": 64,
   "metadata": {},
   "outputs": [],
   "source": [
    "# write a method to get the highest degree node\n",
    "\n",
    "def get_node_hd():\n",
    "    mnode = ''\n",
    "    length = 0\n",
    "    for k in cgraph.keys():\n",
    "        if(len(cgraph[k])>length and k not in okColor.keys()):\n",
    "            length = len(cgraph[k])\n",
    "            mnode = k\n",
    "    return mnode"
   ]
  },
  {
   "cell_type": "code",
   "execution_count": 65,
   "metadata": {},
   "outputs": [],
   "source": [
    "colorstochooselist={'WA': ['red','green', 'blue'], \n",
    "                    'Q': ['red','green', 'blue'],\n",
    "                    'T': ['red', 'green', 'blue'],\n",
    "                    'V':  ['red','green', 'blue'], \n",
    "                    'NT': ['red','green', 'blue'],\n",
    "                    'SA': ['red','green', 'blue'],                    \n",
    "                    'NSW': ['red','green', 'blue']}\n",
    "\n",
    "import random\n",
    "def get_color(node):\n",
    "    # check colorstochooselist[node] is empty or not\n",
    "    # return 'no color'\n",
    "    color = random.choice(colorstochooselist[node])\n",
    "    colorstochooselist.pop(node)\n",
    "    # update color options\n",
    "    adjList = cgraph[node]\n",
    "    for adj in adjList:\n",
    "        if(adj in colorstochooselist.keys()):\n",
    "            colorstochooselist[adj].remove(color)\n",
    "    #print(adjList)\n",
    "    return color\n",
    "    "
   ]
  },
  {
   "cell_type": "code",
   "execution_count": 66,
   "metadata": {},
   "outputs": [
    {
     "name": "stdout",
     "output_type": "stream",
     "text": [
      "{'WA': ['red', 'blue'], 'Q': ['red', 'blue'], 'T': ['red', 'green', 'blue'], 'V': ['red', 'blue'], 'NT': ['red', 'blue'], 'NSW': ['red', 'blue']}\n",
      "{'SA': 'green'}\n"
     ]
    }
   ],
   "source": [
    "# assign color to the highest degree node\n",
    "hdNode = get_node_hd()\n",
    "okColor[hdNode]= get_color(hdNode)\n",
    "print(colorstochooselist)\n",
    "print(okColor)"
   ]
  },
  {
   "cell_type": "code",
   "execution_count": null,
   "metadata": {},
   "outputs": [],
   "source": [
    "# define a method to select a node by MRV\n",
    "def get_node_MRV():\n",
    "    #implement the logic list\n",
    "    retrun node"
   ]
  },
  {
   "cell_type": "code",
   "execution_count": null,
   "metadata": {},
   "outputs": [],
   "source": [
    "L = len(colorstochooselist)\n",
    "for(i in range(0,L)):\n",
    "    # assign color to the Minimum Remaining Value\n",
    "    mrvNode = get_node_MRV()\n",
    "    selected_color = get_color(mrvNode)\n",
    "    # if no color returned then print failure\n",
    "    okColor[hdNode]= selected_color\n",
    "    print(colorstochooselist)\n",
    "    print(okColor)"
   ]
  }
 ],
 "metadata": {
  "kernelspec": {
   "display_name": "Python 3",
   "language": "python",
   "name": "python3"
  },
  "language_info": {
   "codemirror_mode": {
    "name": "ipython",
    "version": 3
   },
   "file_extension": ".py",
   "mimetype": "text/x-python",
   "name": "python",
   "nbconvert_exporter": "python",
   "pygments_lexer": "ipython3",
   "version": "3.8.5"
  }
 },
 "nbformat": 4,
 "nbformat_minor": 4
}
