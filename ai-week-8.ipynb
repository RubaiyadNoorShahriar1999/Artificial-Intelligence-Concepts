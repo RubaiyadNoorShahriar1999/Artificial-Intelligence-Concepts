{
 "cells": [
  {
   "cell_type": "markdown",
   "metadata": {},
   "source": [
    "# Problem: Maximie f(x) = x^2 when x= 1 to 31"
   ]
  },
  {
   "cell_type": "markdown",
   "metadata": {},
   "source": [
    "# Step 1: Initialize Population"
   ]
  },
  {
   "cell_type": "code",
   "execution_count": 1,
   "metadata": {},
   "outputs": [
    {
     "data": {
      "text/plain": [
       "[0, 1, 2, 3]"
      ]
     },
     "execution_count": 1,
     "metadata": {},
     "output_type": "execute_result"
    }
   ],
   "source": [
    "[i for i in range(4)]"
   ]
  },
  {
   "cell_type": "code",
   "execution_count": 2,
   "metadata": {
    "_cell_guid": "b1076dfc-b9ad-4769-8c92-a6c4dae69d19",
    "_uuid": "8f2839f25d086af736a60e9eeb907d3b93b6e0e5"
   },
   "outputs": [],
   "source": [
    "import random\n",
    "def initPopulation(n,b):\n",
    "    p={}\n",
    "    for i in range(n):\n",
    "        s=[]\n",
    "        for j in range(b):\n",
    "            s.append(random.choice([0,1]))    \n",
    "        p[i]=s\n",
    "    return p      \n",
    "\n"
   ]
  },
  {
   "cell_type": "code",
   "execution_count": 104,
   "metadata": {},
   "outputs": [
    {
     "data": {
      "text/plain": [
       "{0: [1, 1, 0, 0, 0],\n",
       " 1: [0, 0, 1, 1, 1],\n",
       " 2: [0, 1, 1, 1, 1],\n",
       " 3: [0, 1, 1, 0, 0],\n",
       " 4: [0, 0, 0, 1, 0],\n",
       " 5: [0, 0, 1, 1, 1],\n",
       " 6: [0, 1, 1, 1, 1],\n",
       " 7: [1, 1, 1, 1, 0]}"
      ]
     },
     "execution_count": 104,
     "metadata": {},
     "output_type": "execute_result"
    }
   ],
   "source": [
    "population=initPopulation(8,5)\n",
    "population"
   ]
  },
  {
   "cell_type": "markdown",
   "metadata": {},
   "source": [
    "# Step 2: Parent Selection"
   ]
  },
  {
   "cell_type": "markdown",
   "metadata": {},
   "source": [
    "Fitness Calculation"
   ]
  },
  {
   "cell_type": "code",
   "execution_count": null,
   "metadata": {},
   "outputs": [],
   "source": [
    "[i for i in range(4,-1,-1)]"
   ]
  },
  {
   "cell_type": "code",
   "execution_count": 97,
   "metadata": {},
   "outputs": [],
   "source": [
    "def getFitness(p):\n",
    "    f=[]\n",
    "    for k in p.keys():\n",
    "        d = 0\n",
    "        b = len(p[k])\n",
    "        for i in range(b-1,-1,-1):\n",
    "            d=d+p[k][i]*2**(4-i)\n",
    "        f.append(d**2)\n",
    "    return f"
   ]
  },
  {
   "cell_type": "code",
   "execution_count": 105,
   "metadata": {},
   "outputs": [
    {
     "data": {
      "text/plain": [
       "[576, 49, 225, 144, 4, 49, 225, 900]"
      ]
     },
     "execution_count": 105,
     "metadata": {},
     "output_type": "execute_result"
    }
   ],
   "source": [
    "fitness = getFitness(population)\n",
    "fitness"
   ]
  },
  {
   "cell_type": "markdown",
   "metadata": {},
   "source": [
    "probability"
   ]
  },
  {
   "cell_type": "code",
   "execution_count": 106,
   "metadata": {},
   "outputs": [
    {
     "data": {
      "text/plain": [
       "[0.265, 0.023, 0.104, 0.066, 0.002, 0.023, 0.104, 0.414]"
      ]
     },
     "execution_count": 106,
     "metadata": {},
     "output_type": "execute_result"
    }
   ],
   "source": [
    "total_fitness = sum(fitness)\n",
    "prob = [round(f/total_fitness,3) for f in fitness]\n",
    "prob"
   ]
  },
  {
   "cell_type": "code",
   "execution_count": 94,
   "metadata": {},
   "outputs": [],
   "source": [
    "def select_parent(n,probabilities):\n",
    "    parents = {}\n",
    "    for i in range(n):\n",
    "        r =random.choice(range(1,1001,1))/1000\n",
    "        s = 0\n",
    "        for j in range(len(probabilities)):\n",
    "            s = s + probabilities[j]\n",
    "            if(s>r):\n",
    "                parents[i]=population[j]\n",
    "                #print(population[j])\n",
    "                break\n",
    "    return parents"
   ]
  },
  {
   "cell_type": "code",
   "execution_count": 107,
   "metadata": {},
   "outputs": [
    {
     "data": {
      "text/plain": [
       "{0: [0, 0, 1, 1, 1],\n",
       " 1: [0, 1, 1, 1, 1],\n",
       " 2: [1, 1, 1, 1, 0],\n",
       " 3: [0, 1, 1, 1, 1],\n",
       " 4: [1, 1, 1, 1, 0],\n",
       " 5: [0, 1, 1, 1, 1]}"
      ]
     },
     "execution_count": 107,
     "metadata": {},
     "output_type": "execute_result"
    }
   ],
   "source": [
    "parents = select_parent(6,prob)\n",
    "parents"
   ]
  },
  {
   "cell_type": "markdown",
   "metadata": {},
   "source": [
    "# Step 3: Crossover"
   ]
  },
  {
   "cell_type": "code",
   "execution_count": 88,
   "metadata": {},
   "outputs": [
    {
     "data": {
      "text/plain": [
       "2"
      ]
     },
     "execution_count": 88,
     "metadata": {},
     "output_type": "execute_result"
    }
   ],
   "source": [
    "cp = random.choice(range(1,5))\n",
    "cp"
   ]
  },
  {
   "cell_type": "markdown",
   "metadata": {},
   "source": [
    "# Step 4: Survivor (will go to population)"
   ]
  },
  {
   "cell_type": "markdown",
   "metadata": {},
   "source": [
    "Select top 2 offspring based on fitness value and add them to population."
   ]
  },
  {
   "cell_type": "markdown",
   "metadata": {},
   "source": [
    "Repeat Step 2 to 4 for further iterations"
   ]
  }
 ],
 "metadata": {
  "kernelspec": {
   "display_name": "Python 3",
   "language": "python",
   "name": "python3"
  },
  "language_info": {
   "codemirror_mode": {
    "name": "ipython",
    "version": 3
   },
   "file_extension": ".py",
   "mimetype": "text/x-python",
   "name": "python",
   "nbconvert_exporter": "python",
   "pygments_lexer": "ipython3",
   "version": "3.8.5"
  }
 },
 "nbformat": 4,
 "nbformat_minor": 4
}
