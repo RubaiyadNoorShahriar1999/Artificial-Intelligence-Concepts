{
 "cells": [
  {
   "cell_type": "markdown",
   "metadata": {},
   "source": [
    "# N Queen Attack Detection"
   ]
  },
  {
   "cell_type": "code",
   "execution_count": 16,
   "metadata": {},
   "outputs": [
    {
     "name": "stdout",
     "output_type": "stream",
     "text": [
      "Q1: 1,1\n",
      "Q2: 2,4\n",
      "Q3: 4,3\n",
      "Q4: 4,4\n",
      "[1, 2, 4, 4]\n",
      "[1, 4, 3, 4]\n"
     ]
    }
   ],
   "source": [
    "import random\n",
    "N = 4\n",
    "r = []\n",
    "c = []\n",
    "for i in range(1, N+1):\n",
    "    r.append(random.choice(range(1, N+1)))\n",
    "    c.append(random.choice(range(1, N+1)))\n",
    "    #check repetition of position\n",
    "    print('Q{}: {},{}'.format(i,r[-1],c[-1]))\n",
    "print(r)\n",
    "print(c)"
   ]
  },
  {
   "cell_type": "code",
   "execution_count": 17,
   "metadata": {},
   "outputs": [
    {
     "name": "stdout",
     "output_type": "stream",
     "text": [
      "row attack: row:4 column:3 and 4\n"
     ]
    }
   ],
   "source": [
    "# row attack\n",
    "for i in range(0,N):\n",
    "    for j in range(i+1,N):\n",
    "        if(r[i] == r[j]):\n",
    "            print('row attack: row:{} column:{} and {}'.format(r[i],c[i],c[j]))      \n",
    "    "
   ]
  },
  {
   "cell_type": "code",
   "execution_count": null,
   "metadata": {},
   "outputs": [],
   "source": [
    "#column attack\n"
   ]
  },
  {
   "cell_type": "code",
   "execution_count": null,
   "metadata": {},
   "outputs": [],
   "source": [
    "# diagonal atack\n"
   ]
  },
  {
   "cell_type": "code",
   "execution_count": null,
   "metadata": {},
   "outputs": [],
   "source": [
    "# implement a method to print a state is valid or not\n",
    "# input r and c (two lists)\n"
   ]
  }
 ],
 "metadata": {
  "kernelspec": {
   "display_name": "Python 3",
   "language": "python",
   "name": "python3"
  },
  "language_info": {
   "codemirror_mode": {
    "name": "ipython",
    "version": 3
   },
   "file_extension": ".py",
   "mimetype": "text/x-python",
   "name": "python",
   "nbconvert_exporter": "python",
   "pygments_lexer": "ipython3",
   "version": "3.8.5"
  }
 },
 "nbformat": 4,
 "nbformat_minor": 4
}
